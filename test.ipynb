{
 "cells": [
  {
   "cell_type": "code",
   "execution_count": 1,
   "metadata": {},
   "outputs": [
    {
     "name": "stderr",
     "output_type": "stream",
     "text": [
      "2023-05-29 14:39:55.945010: I tensorflow/core/platform/cpu_feature_guard.cc:193] This TensorFlow binary is optimized with oneAPI Deep Neural Network Library (oneDNN) to use the following CPU instructions in performance-critical operations:  AVX2 FMA\n",
      "To enable them in other operations, rebuild TensorFlow with the appropriate compiler flags.\n",
      "2023-05-29 14:39:56.620517: W tensorflow/compiler/xla/stream_executor/platform/default/dso_loader.cc:64] Could not load dynamic library 'libcudart.so.11.0'; dlerror: libcudart.so.11.0: cannot open shared object file: No such file or directory\n",
      "2023-05-29 14:39:56.620545: I tensorflow/compiler/xla/stream_executor/cuda/cudart_stub.cc:29] Ignore above cudart dlerror if you do not have a GPU set up on your machine.\n",
      "2023-05-29 14:39:58.323998: W tensorflow/compiler/xla/stream_executor/platform/default/dso_loader.cc:64] Could not load dynamic library 'libnvinfer.so.7'; dlerror: libnvinfer.so.7: cannot open shared object file: No such file or directory\n",
      "2023-05-29 14:39:58.324201: W tensorflow/compiler/xla/stream_executor/platform/default/dso_loader.cc:64] Could not load dynamic library 'libnvinfer_plugin.so.7'; dlerror: libnvinfer_plugin.so.7: cannot open shared object file: No such file or directory\n",
      "2023-05-29 14:39:58.324213: W tensorflow/compiler/tf2tensorrt/utils/py_utils.cc:38] TF-TRT Warning: Cannot dlopen some TensorRT libraries. If you would like to use Nvidia GPU with TensorRT, please make sure the missing libraries mentioned above are installed properly.\n",
      "/home/olga/.local/lib/python3.10/site-packages/tqdm/auto.py:22: TqdmWarning: IProgress not found. Please update jupyter and ipywidgets. See https://ipywidgets.readthedocs.io/en/stable/user_install.html\n",
      "  from .autonotebook import tqdm as notebook_tqdm\n"
     ]
    }
   ],
   "source": [
    "%reload_ext autoreload\n",
    "%autoreload 2\n",
    "import os\n",
    "import json\n",
    "import gridSearch as g\n",
    "import math\n",
    "import batching as b\n",
    "import modularized as m\n",
    "import convL\n",
    "import convo as c\n",
    "import numpy as np\n",
    "from tensorflow import keras\n",
    "import tensorflow as tf\n",
    "import gridS\n",
    "import funcy as fy\n",
    "import gin\n",
    "import poolingL\n",
    "from ogb.nodeproppred import NodePropPredDataset\n",
    "from ogb.graphproppred import GraphPropPredDataset\n",
    "from sklearn.model_selection import ParameterGrid\n",
    "import experiments as e\n"
   ]
  },
  {
   "cell_type": "code",
   "execution_count": 2,
   "metadata": {},
   "outputs": [],
   "source": [
    "\n",
    "dataset1 = GraphPropPredDataset(name = 'ogbg-molhiv')"
   ]
  },
  {
   "cell_type": "code",
   "execution_count": 3,
   "metadata": {},
   "outputs": [],
   "source": [
    "dataset_arxiv = NodePropPredDataset(name='ogbn-arxiv')\n"
   ]
  },
  {
   "cell_type": "code",
   "execution_count": 4,
   "metadata": {},
   "outputs": [
    {
     "data": {
      "text/plain": [
       "[{'activation': 'relu',\n",
       "  'convo_type': 'gin',\n",
       "  'learning_rate': 0.0001,\n",
       "  'num_layers': 1,\n",
       "  'optimizer': 'Adam',\n",
       "  'probability': 0.3,\n",
       "  'regularization': 'DropOut',\n",
       "  'units': 32},\n",
       " {'activation': 'relu',\n",
       "  'convo_type': 'gin',\n",
       "  'learning_rate': 0.0001,\n",
       "  'num_layers': 1,\n",
       "  'optimizer': 'Adam',\n",
       "  'probability': 0.3,\n",
       "  'regularization': 'DropOut',\n",
       "  'units': 64},\n",
       " {'activation': 'relu',\n",
       "  'convo_type': 'gin',\n",
       "  'learning_rate': 0.0001,\n",
       "  'num_layers': 1,\n",
       "  'optimizer': 'Adam',\n",
       "  'probability': 0.3,\n",
       "  'regularization': 'NodeSampling',\n",
       "  'units': 32}]"
      ]
     },
     "execution_count": 4,
     "metadata": {},
     "output_type": "execute_result"
    }
   ],
   "source": [
    "param_grid = {'num_layers': [1, 2, 3, 4, 5, 6],\n",
    "              'learning_rate': [0.0001, 0.001, 0.01],\n",
    "              'optimizer': ['Adam'],\n",
    "              'regularization': ['DropOut', 'NodeSampling', 'DropEdge', 'GDC'],\n",
    "              'probability': [0.3, 0.5, 0.7],\n",
    "              'activation': ['relu', 'sigmoid', 'tanh'],\n",
    "              'units': [32, 64],\n",
    "              'convo_type': ['gcn', 'gin']}\n",
    "\n",
    "override_conv_type = 'gin'  # None\n",
    "\n",
    "if override_conv_type is not None:\n",
    "    param_grid['convo_type'] = [override_conv_type]\n",
    "\n",
    "small_sample = list(ParameterGrid(param_grid))[0:3]\n",
    "sample = list(ParameterGrid(param_grid))[0:5]\n",
    "big_sample = list(ParameterGrid(param_grid))[0:20]\n",
    "small_sample\n"
   ]
  },
  {
   "cell_type": "code",
   "execution_count": 5,
   "metadata": {},
   "outputs": [],
   "source": [
    "ds = GraphPropPredDataset('ogbg-molhiv')"
   ]
  },
  {
   "cell_type": "code",
   "execution_count": 6,
   "metadata": {},
   "outputs": [
    {
     "name": "stderr",
     "output_type": "stream",
     "text": [
      "2023-05-29 14:40:32.351551: W tensorflow/compiler/xla/stream_executor/platform/default/dso_loader.cc:64] Could not load dynamic library 'libcuda.so.1'; dlerror: libcuda.so.1: cannot open shared object file: No such file or directory\n",
      "2023-05-29 14:40:32.352345: W tensorflow/compiler/xla/stream_executor/cuda/cuda_driver.cc:265] failed call to cuInit: UNKNOWN ERROR (303)\n",
      "2023-05-29 14:40:32.352544: I tensorflow/compiler/xla/stream_executor/cuda/cuda_diagnostics.cc:156] kernel driver does not appear to be running on this host (DESKTOP-UCI9MJD): /proc/driver/nvidia/version does not exist\n",
      "2023-05-29 14:40:32.354459: I tensorflow/core/platform/cpu_feature_guard.cc:193] This TensorFlow binary is optimized with oneAPI Deep Neural Network Library (oneDNN) to use the following CPU instructions in performance-critical operations:  AVX2 FMA\n",
      "To enable them in other operations, rebuild TensorFlow with the appropriate compiler flags.\n"
     ]
    },
    {
     "name": "stdout",
     "output_type": "stream",
     "text": [
      "Evaluating hyperparameter configuration 0 for dataset ogbg-molhiv.\n",
      "Repeat 0 for hyperparameter configuration 0 already evaluated for dataset ogbg-molhiv.\n",
      "Repeat 1 for hyperparameter configuration 0 already evaluated for dataset ogbg-molhiv.\n",
      "Repeat 2 for hyperparameter configuration 0 already evaluated for dataset ogbg-molhiv.\n",
      "Evaluating hyperparameter configuration 1 for dataset ogbg-molhiv.\n",
      "Repeat 0 for hyperparameter configuration 1 already evaluated for dataset ogbg-molhiv.\n",
      "Repeat 1 for hyperparameter configuration 1 already evaluated for dataset ogbg-molhiv.\n",
      "Repeat 2 for hyperparameter configuration 1 already evaluated for dataset ogbg-molhiv.\n",
      "Evaluating hyperparameter configuration 2 for dataset ogbg-molhiv.\n",
      "Repeat 0 for hyperparameter configuration 2 already evaluated for dataset ogbg-molhiv.\n",
      "Repeat 1 for hyperparameter configuration 2 already evaluated for dataset ogbg-molhiv.\n",
      "Repeat 2 for hyperparameter configuration 2 already evaluated for dataset ogbg-molhiv.\n"
     ]
    }
   ],
   "source": [
    "gridS.train_and_evaluate(small_sample, 'ogbg-molhiv')"
   ]
  },
  {
   "cell_type": "code",
   "execution_count": 7,
   "metadata": {},
   "outputs": [
    {
     "name": "stdout",
     "output_type": "stream",
     "text": [
      "Evaluating hyperparameter configuration 0 for dataset ogbg-molpcba.\n",
      "Repeat 0 for hyperparameter configuration 0 already evaluated for dataset ogbg-molpcba.\n",
      "Repeat 1 for hyperparameter configuration 0 already evaluated for dataset ogbg-molpcba.\n",
      "Repeat 2 for hyperparameter configuration 0 already evaluated for dataset ogbg-molpcba.\n",
      "Evaluating hyperparameter configuration 1 for dataset ogbg-molpcba.\n",
      "1460/1460 [==============================] - 20s 12ms/step - loss: 0.1326 - binary_accuracy: 0.9682 - precision_1: 0.0189 - recall_1: 0.0175 - val_loss: 0.0679 - val_binary_accuracy: 0.9832 - val_precision_1: 0.0000e+00 - val_recall_1: 0.0000e+00\n",
      "1460/1460 [==============================] - 8s 5ms/step - loss: 0.0678 - binary_accuracy: 0.9832 - precision_1: 0.0000e+00 - recall_1: 0.0000e+00\n",
      "1460/1460 [==============================] - 7s 4ms/step\n",
      "1460/1460 [==============================] - 19s 12ms/step - loss: 0.1316 - binary_accuracy: 0.9775 - precision_1: 0.0314 - recall_1: 0.0115 - val_loss: 0.0678 - val_binary_accuracy: 0.9832 - val_precision_1: 0.0000e+00 - val_recall_1: 0.0000e+00\n",
      "1460/1460 [==============================] - 7s 5ms/step - loss: 0.0678 - binary_accuracy: 0.9832 - precision_1: 0.0000e+00 - recall_1: 0.0000e+00\n",
      "1460/1460 [==============================] - 7s 4ms/step\n",
      "1460/1460 [==============================] - 20s 12ms/step - loss: 0.1323 - binary_accuracy: 0.9772 - precision_1: 0.0180 - recall_1: 0.0067 - val_loss: 0.0681 - val_binary_accuracy: 0.9832 - val_precision_1: 0.0000e+00 - val_recall_1: 0.0000e+00\n",
      "1460/1460 [==============================] - 8s 5ms/step - loss: 0.0681 - binary_accuracy: 0.9832 - precision_1: 0.0000e+00 - recall_1: 0.0000e+00\n",
      "1460/1460 [==============================] - 7s 4ms/step\n",
      "Evaluating hyperparameter configuration 2 for dataset ogbg-molpcba.\n",
      "1460/1460 [==============================] - 16s 10ms/step - loss: 0.1793 - binary_accuracy: 0.9689 - precision_1: 0.0144 - recall_1: 0.0126 - val_loss: 0.0697 - val_binary_accuracy: 0.9832 - val_precision_1: 0.0000e+00 - val_recall_1: 0.0000e+00\n",
      "1460/1460 [==============================] - 7s 5ms/step - loss: 0.0697 - binary_accuracy: 0.9832 - precision_1: 0.0000e+00 - recall_1: 0.0000e+00\n",
      "1460/1460 [==============================] - 6s 4ms/step\n",
      "1460/1460 [==============================] - 17s 10ms/step - loss: 0.1646 - binary_accuracy: 0.9718 - precision_1: 0.0173 - recall_1: 0.0121 - val_loss: 0.0699 - val_binary_accuracy: 0.9832 - val_precision_1: 0.0000e+00 - val_recall_1: 0.0000e+00\n",
      "1460/1460 [==============================] - 7s 4ms/step - loss: 0.0698 - binary_accuracy: 0.9832 - precision_1: 0.0000e+00 - recall_1: 0.0000e+00\n",
      "1460/1460 [==============================] - 6s 4ms/step\n",
      "1460/1460 [==============================] - 22s 13ms/step - loss: 0.1782 - binary_accuracy: 0.9696 - precision_1: 0.0101 - recall_1: 0.0084 - val_loss: 0.0696 - val_binary_accuracy: 0.9832 - val_precision_1: 0.0000e+00 - val_recall_1: 0.0000e+00\n",
      "1460/1460 [==============================] - 8s 5ms/step - loss: 0.0696 - binary_accuracy: 0.9832 - precision_1: 0.0000e+00 - recall_1: 0.0000e+00\n",
      "1460/1460 [==============================] - 6s 4ms/step\n"
     ]
    }
   ],
   "source": [
    "gridS.train_and_evaluate(small_sample, 'ogbg-molpcba')"
   ]
  },
  {
   "cell_type": "code",
   "execution_count": 11,
   "metadata": {},
   "outputs": [
    {
     "name": "stdout",
     "output_type": "stream",
     "text": [
      "Evaluating hyperparameter configuration 0 for dataset ogbg-molhiv.\n",
      "138/138 [==============================] - 3s 14ms/step - loss: 0.1471 - auc: 0.5000 - binary_accuracy: 0.9684 - precision: 0.0000e+00 - recall: 0.0000e+00 - val_loss: 0.1418 - val_auc: 0.5000 - val_binary_accuracy: 0.9684 - val_precision: 0.0000e+00 - val_recall: 0.0000e+00\n",
      "138/138 [==============================] - 1s 5ms/step - loss: 0.1398 - auc: 0.5000 - binary_accuracy: 0.9684 - precision: 0.0000e+00 - recall: 0.0000e+00\n",
      "138/138 [==============================] - 1s 4ms/step\n",
      "138/138 [==============================] - 4s 11ms/step - loss: 0.9391 - auc: 0.5171 - binary_accuracy: 0.7717 - precision: 0.0398 - recall: 0.2692 - val_loss: 0.3184 - val_auc: 0.4985 - val_binary_accuracy: 0.9679 - val_precision: 0.0000e+00 - val_recall: 0.0000e+00\n",
      "138/138 [==============================] - 1s 4ms/step - loss: 0.3171 - auc: 0.4995 - binary_accuracy: 0.9684 - precision: 0.0000e+00 - recall: 0.0000e+00\n",
      "138/138 [==============================] - 1s 3ms/step\n",
      "138/138 [==============================] - 3s 11ms/step - loss: 0.1443 - auc: 0.4997 - binary_accuracy: 0.9684 - precision: 0.0000e+00 - recall: 0.0000e+00 - val_loss: 0.1447 - val_auc: 0.5000 - val_binary_accuracy: 0.9684 - val_precision: 0.0000e+00 - val_recall: 0.0000e+00\n",
      "138/138 [==============================] - 1s 3ms/step - loss: 0.1442 - auc: 0.5000 - binary_accuracy: 0.9684 - precision: 0.0000e+00 - recall: 0.0000e+00\n",
      "138/138 [==============================] - 1s 3ms/step\n"
     ]
    }
   ],
   "source": [
    "gridS.train_and_evaluate(small_sample, 'ogbg-molhiv')"
   ]
  },
  {
   "cell_type": "code",
   "execution_count": 19,
   "metadata": {},
   "outputs": [
    {
     "name": "stdout",
     "output_type": "stream",
     "text": [
      "{\"hyperparams\": {\"activation\": \"relu\", \"convo_type\": \"gin\", \"learning_rate\": 0.0001, \"num_layers\": 1, \"optimizer\": \"Adam\", \"probability\": 0.3, \"regularization\": \"DropOut\", \"units\": 32}, \"test_loss\": 0.13981470465660095, \"test_acc\": [0.5, 0.9683929085731506, 0.0, 0.0], \"test_rocauc\": 0.4990922961045984, \"training_history\": {\"loss\": [0.147053524851799], \"auc\": [0.5], \"binary_accuracy\": [0.9683929085731506], \"precision\": [0.0], \"recall\": [0.0], \"val_loss\": [0.1418473869562149], \"val_auc\": [0.5], \"val_binary_accuracy\": [0.9683929085731506], \"val_precision\": [0.0], \"val_recall\": [0.0]}, \"train_loss\": 0.147053524851799, \"val_loss\": 0.1418473869562149}\n"
     ]
    }
   ],
   "source": [
    "current_dir = os.getcwd()\n",
    "type_dir = type(current_dir)\n",
    "contents = os.listdir()\n",
    "with open('/home/olga/GraphNeuralNetwork/ogbg-molhiv/hpconfig_0/repeat_0.json', 'r') as file: \n",
    "    data = file.read() \n",
    "    print(data)\n",
    "    file.close()\n"
   ]
  },
  {
   "cell_type": "code",
   "execution_count": 24,
   "metadata": {},
   "outputs": [
    {
     "data": {
      "text/plain": [
       "<posix.ScandirIterator at 0x7fdc0a49c810>"
      ]
     },
     "execution_count": 24,
     "metadata": {},
     "output_type": "execute_result"
    }
   ],
   "source": [
    "contents_new = os.scandir() \n",
    "contents_new \n",
    "\n"
   ]
  },
  {
   "cell_type": "code",
   "execution_count": null,
   "metadata": {},
   "outputs": [],
   "source": [
    "with os.scandir('/ home/olga/GraphNeuralNetwork/ogbg-molhiv') as entries:\n",
    "    for entry in entries: \n",
    "        print(entry.name)\n",
    "\n"
   ]
  }
 ],
 "metadata": {
  "kernelspec": {
   "display_name": "Python 3",
   "language": "python",
   "name": "python3"
  },
  "language_info": {
   "codemirror_mode": {
    "name": "ipython",
    "version": 3
   },
   "file_extension": ".py",
   "mimetype": "text/x-python",
   "name": "python",
   "nbconvert_exporter": "python",
   "pygments_lexer": "ipython3",
   "version": "3.10.6"
  },
  "orig_nbformat": 4
 },
 "nbformat": 4,
 "nbformat_minor": 2
}
