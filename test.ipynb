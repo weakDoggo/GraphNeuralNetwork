{
 "cells": [
  {
   "cell_type": "code",
   "execution_count": 28,
   "metadata": {},
   "outputs": [],
   "source": [
    "%reload_ext autoreload\n",
    "%autoreload 2\n",
    "import os\n",
    "import json\n",
    "import math\n",
    "import batching as b\n",
    "import modularized as m\n",
    "import convL\n",
    "import convo as c\n",
    "import numpy as np\n",
    "from tensorflow import keras\n",
    "import tensorflow as tf\n",
    "import gridS\n",
    "import funcy as fy\n",
    "import gin\n",
    "import poolingL\n",
    "from ogb.nodeproppred import NodePropPredDataset\n",
    "from ogb.graphproppred import GraphPropPredDataset\n",
    "from sklearn.model_selection import ParameterGrid\n",
    "import eval as ev\n",
    "import click"
   ]
  },
  {
   "cell_type": "code",
   "execution_count": 2,
   "metadata": {},
   "outputs": [],
   "source": [
    "\n",
    "dataset1 = GraphPropPredDataset(name = 'ogbg-molhiv')"
   ]
  },
  {
   "cell_type": "code",
   "execution_count": 3,
   "metadata": {},
   "outputs": [],
   "source": [
    "dataset_arxiv = NodePropPredDataset(name='ogbn-arxiv')\n"
   ]
  },
  {
   "cell_type": "code",
   "execution_count": 4,
   "metadata": {},
   "outputs": [
    {
     "data": {
      "text/plain": [
       "[{'activation': 'relu',\n",
       "  'convo_type': 'gin',\n",
       "  'learning_rate': 0.0001,\n",
       "  'num_layers': 1,\n",
       "  'optimizer': 'Adam',\n",
       "  'probability': 0.3,\n",
       "  'regularization': 'DropOut',\n",
       "  'units': 32},\n",
       " {'activation': 'relu',\n",
       "  'convo_type': 'gin',\n",
       "  'learning_rate': 0.0001,\n",
       "  'num_layers': 1,\n",
       "  'optimizer': 'Adam',\n",
       "  'probability': 0.3,\n",
       "  'regularization': 'DropOut',\n",
       "  'units': 64},\n",
       " {'activation': 'relu',\n",
       "  'convo_type': 'gin',\n",
       "  'learning_rate': 0.0001,\n",
       "  'num_layers': 1,\n",
       "  'optimizer': 'Adam',\n",
       "  'probability': 0.3,\n",
       "  'regularization': 'NodeSampling',\n",
       "  'units': 32}]"
      ]
     },
     "execution_count": 4,
     "metadata": {},
     "output_type": "execute_result"
    }
   ],
   "source": [
    "param_grid = {'num_layers': [1, 2, 3, 4, 5, 6],\n",
    "              'learning_rate': [0.0001, 0.001, 0.01],\n",
    "              'optimizer': ['Adam'],\n",
    "              'regularization': ['DropOut', 'NodeSampling', 'DropEdge', 'GDC'],\n",
    "              'probability': [0.3, 0.5, 0.7],\n",
    "              'activation': ['relu', 'sigmoid', 'tanh'],\n",
    "              'units': [32, 64],\n",
    "              'convo_type': ['gcn', 'gin']}\n",
    "\n",
    "override_conv_type = 'gin'  # None\n",
    "\n",
    "if override_conv_type is not None:\n",
    "    param_grid['convo_type'] = [override_conv_type]\n",
    "\n",
    "small_sample = list(ParameterGrid(param_grid))[0:3]\n",
    "sample = list(ParameterGrid(param_grid))[0:5]\n",
    "big_sample = list(ParameterGrid(param_grid))[0:20]\n",
    "small_sample\n"
   ]
  },
  {
   "cell_type": "code",
   "execution_count": 5,
   "metadata": {},
   "outputs": [],
   "source": [
    "ds = GraphPropPredDataset('ogbg-molhiv')"
   ]
  },
  {
   "cell_type": "code",
   "execution_count": 6,
   "metadata": {},
   "outputs": [
    {
     "name": "stderr",
     "output_type": "stream",
     "text": [
      "2023-08-20 11:24:30.351957: W tensorflow/compiler/xla/stream_executor/platform/default/dso_loader.cc:64] Could not load dynamic library 'libcuda.so.1'; dlerror: libcuda.so.1: cannot open shared object file: No such file or directory\n",
      "2023-08-20 11:24:30.352555: W tensorflow/compiler/xla/stream_executor/cuda/cuda_driver.cc:265] failed call to cuInit: UNKNOWN ERROR (303)\n",
      "2023-08-20 11:24:30.352599: I tensorflow/compiler/xla/stream_executor/cuda/cuda_diagnostics.cc:156] kernel driver does not appear to be running on this host (DESKTOP-UCI9MJD): /proc/driver/nvidia/version does not exist\n",
      "2023-08-20 11:24:30.354548: I tensorflow/core/platform/cpu_feature_guard.cc:193] This TensorFlow binary is optimized with oneAPI Deep Neural Network Library (oneDNN) to use the following CPU instructions in performance-critical operations:  AVX2 FMA\n",
      "To enable them in other operations, rebuild TensorFlow with the appropriate compiler flags.\n"
     ]
    },
    {
     "name": "stdout",
     "output_type": "stream",
     "text": [
      "Evaluating hyperparameter configuration 0 for dataset ogbg-molhiv.\n",
      "Repeat 0 for hyperparameter configuration 0 already evaluated for dataset ogbg-molhiv.\n",
      "Repeat 1 for hyperparameter configuration 0 already evaluated for dataset ogbg-molhiv.\n",
      "Repeat 2 for hyperparameter configuration 0 already evaluated for dataset ogbg-molhiv.\n",
      "Evaluating hyperparameter configuration 1 for dataset ogbg-molhiv.\n",
      "Repeat 0 for hyperparameter configuration 1 already evaluated for dataset ogbg-molhiv.\n",
      "Repeat 1 for hyperparameter configuration 1 already evaluated for dataset ogbg-molhiv.\n",
      "Repeat 2 for hyperparameter configuration 1 already evaluated for dataset ogbg-molhiv.\n",
      "Evaluating hyperparameter configuration 2 for dataset ogbg-molhiv.\n",
      "Repeat 0 for hyperparameter configuration 2 already evaluated for dataset ogbg-molhiv.\n",
      "Repeat 1 for hyperparameter configuration 2 already evaluated for dataset ogbg-molhiv.\n",
      "Repeat 2 for hyperparameter configuration 2 already evaluated for dataset ogbg-molhiv.\n"
     ]
    }
   ],
   "source": [
    "gridS.train_and_evaluate(small_sample, 'ogbg-molhiv')"
   ]
  },
  {
   "cell_type": "code",
   "execution_count": 7,
   "metadata": {},
   "outputs": [
    {
     "name": "stdout",
     "output_type": "stream",
     "text": [
      "Evaluating hyperparameter configuration 0 for dataset ogbg-molpcba.\n",
      "Repeat 0 for hyperparameter configuration 0 already evaluated for dataset ogbg-molpcba.\n",
      "Repeat 1 for hyperparameter configuration 0 already evaluated for dataset ogbg-molpcba.\n",
      "Repeat 2 for hyperparameter configuration 0 already evaluated for dataset ogbg-molpcba.\n",
      "Evaluating hyperparameter configuration 1 for dataset ogbg-molpcba.\n",
      "Repeat 0 for hyperparameter configuration 1 already evaluated for dataset ogbg-molpcba.\n",
      "Repeat 1 for hyperparameter configuration 1 already evaluated for dataset ogbg-molpcba.\n",
      "Repeat 2 for hyperparameter configuration 1 already evaluated for dataset ogbg-molpcba.\n",
      "Evaluating hyperparameter configuration 2 for dataset ogbg-molpcba.\n",
      "Repeat 0 for hyperparameter configuration 2 already evaluated for dataset ogbg-molpcba.\n",
      "Repeat 1 for hyperparameter configuration 2 already evaluated for dataset ogbg-molpcba.\n",
      "Repeat 2 for hyperparameter configuration 2 already evaluated for dataset ogbg-molpcba.\n"
     ]
    }
   ],
   "source": [
    "gridS.train_and_evaluate(small_sample, 'ogbg-molpcba')"
   ]
  },
  {
   "cell_type": "code",
   "execution_count": 8,
   "metadata": {},
   "outputs": [
    {
     "name": "stdout",
     "output_type": "stream",
     "text": [
      "Evaluating hyperparameter configuration 0 for dataset ogbg-molhiv.\n",
      "Repeat 0 for hyperparameter configuration 0 already evaluated for dataset ogbg-molhiv.\n",
      "Repeat 1 for hyperparameter configuration 0 already evaluated for dataset ogbg-molhiv.\n",
      "Repeat 2 for hyperparameter configuration 0 already evaluated for dataset ogbg-molhiv.\n",
      "Evaluating hyperparameter configuration 1 for dataset ogbg-molhiv.\n",
      "Repeat 0 for hyperparameter configuration 1 already evaluated for dataset ogbg-molhiv.\n",
      "Repeat 1 for hyperparameter configuration 1 already evaluated for dataset ogbg-molhiv.\n",
      "Repeat 2 for hyperparameter configuration 1 already evaluated for dataset ogbg-molhiv.\n",
      "Evaluating hyperparameter configuration 2 for dataset ogbg-molhiv.\n",
      "Repeat 0 for hyperparameter configuration 2 already evaluated for dataset ogbg-molhiv.\n",
      "Repeat 1 for hyperparameter configuration 2 already evaluated for dataset ogbg-molhiv.\n",
      "Repeat 2 for hyperparameter configuration 2 already evaluated for dataset ogbg-molhiv.\n"
     ]
    }
   ],
   "source": [
    "gridS.train_and_evaluate(small_sample, 'ogbg-molhiv')"
   ]
  },
  {
   "cell_type": "code",
   "execution_count": 9,
   "metadata": {},
   "outputs": [
    {
     "name": "stdout",
     "output_type": "stream",
     "text": [
      "{\"hyperparams\": {\"activation\": \"relu\", \"convo_type\": \"gin\", \"learning_rate\": 0.0001, \"num_layers\": 1, \"optimizer\": \"Adam\", \"probability\": 0.3, \"regularization\": \"DropOut\", \"units\": 32}, \"test_loss\": 0.1492203027009964, \"test_auc\": 0.5, \"test_bin_accuracy\": 0.9683929085731506, \"test_precision\": 0.0, \"test_recall\": 0.0, \"test_rocauc\": 0.4793931902894996, \"training_history\": {\"loss\": [0.25156667828559875], \"auc\": [0.4982425272464752], \"bin_accuracy\": [0.9683929085731506], \"precision\": [0.0], \"recall\": [0.0], \"val_loss\": [0.1484275907278061], \"val_auc\": [0.5], \"val_bin_accuracy\": [0.9683929085731506], \"val_precision\": [0.0], \"val_recall\": [0.0]}, \"train_loss\": 0.25156667828559875, \"val_loss\": 0.1484275907278061}\n"
     ]
    }
   ],
   "source": [
    "current_dir = os.getcwd()\n",
    "type_dir = type(current_dir)\n",
    "contents = os.listdir()\n",
    "with open('/home/olga/GraphNeuralNetwork/ogbg-molhiv/hpconfig_0/repeat_0.json', 'r') as file: \n",
    "    data = file.read() \n",
    "    print(data)\n",
    "    file.close()\n"
   ]
  },
  {
   "cell_type": "code",
   "execution_count": 10,
   "metadata": {},
   "outputs": [
    {
     "data": {
      "text/plain": [
       "<posix.ScandirIterator at 0x7f4a140af750>"
      ]
     },
     "execution_count": 10,
     "metadata": {},
     "output_type": "execute_result"
    }
   ],
   "source": [
    "contents_new = os.scandir() \n",
    "contents_new \n",
    "\n"
   ]
  },
  {
   "cell_type": "code",
   "execution_count": 11,
   "metadata": {},
   "outputs": [
    {
     "name": "stdout",
     "output_type": "stream",
     "text": [
      "workplan.md\n",
      ".gitignore\n",
      "convo.py\n",
      "gridS.py\n",
      "__pycache__\n",
      "ogbg-molhiv\n",
      "batching.py\n",
      "metrics.py\n",
      "readme.md\n",
      "dataset\n",
      "modularized.py\n",
      "ogbg-molpcba\n",
      "eval.py\n",
      "prototype.py\n",
      "gin.py\n",
      ".editorconfig\n",
      ".git\n",
      "ogbg-molesol\n",
      "poolingL.py\n",
      "mad.py\n",
      "test.ipynb\n",
      "convL.py\n"
     ]
    },
    {
     "data": {
      "text/plain": [
       "posix.ScandirIterator"
      ]
     },
     "execution_count": 11,
     "metadata": {},
     "output_type": "execute_result"
    }
   ],
   "source": [
    "with os.scandir('/home/olga/GraphNeuralNetwork') as entries:\n",
    "    for entry in entries: \n",
    "        print(entry.name)\n",
    "\n",
    "type(entries)"
   ]
  },
  {
   "cell_type": "code",
   "execution_count": 12,
   "metadata": {},
   "outputs": [
    {
     "data": {
      "text/plain": [
       "9"
      ]
     },
     "execution_count": 12,
     "metadata": {},
     "output_type": "execute_result"
    }
   ],
   "source": [
    "dataset = GraphPropPredDataset(name='ogbg-molhiv')\n",
    "\n",
    "dataset[0][0]['node_feat'][0].shape[0]\n"
   ]
  },
  {
   "cell_type": "code",
   "execution_count": 13,
   "metadata": {},
   "outputs": [],
   "source": [
    "input = b.make_tf_datasets(dataset)"
   ]
  },
  {
   "cell_type": "code",
   "execution_count": 14,
   "metadata": {},
   "outputs": [],
   "source": [
    "test_model = gridS.create_model(node_features=dataset[0][0]['node_feat'][0].shape[0],**gridS.param_combos[0], **gridS.config('ogbg-molhiv'))"
   ]
  },
  {
   "cell_type": "code",
   "execution_count": 15,
   "metadata": {},
   "outputs": [
    {
     "name": "stdout",
     "output_type": "stream",
     "text": [
      "138/138 [==============================] - 2s 6ms/step - loss: 0.1449 - auc: 0.5000 - bin_accuracy: 0.9684 - precision: 0.0000e+00 - recall: 0.0000e+00\n"
     ]
    }
   ],
   "source": [
    "res = test_model.evaluate(input['test'], return_dict = True)"
   ]
  },
  {
   "cell_type": "code",
   "execution_count": 16,
   "metadata": {},
   "outputs": [
    {
     "data": {
      "text/plain": [
       "{'loss': 0.14489756524562836,\n",
       " 'auc': 0.5,\n",
       " 'bin_accuracy': 0.9683929085731506,\n",
       " 'precision': 0.0,\n",
       " 'recall': 0.0}"
      ]
     },
     "execution_count": 16,
     "metadata": {},
     "output_type": "execute_result"
    }
   ],
   "source": [
    "res"
   ]
  },
  {
   "cell_type": "code",
   "execution_count": 17,
   "metadata": {},
   "outputs": [
    {
     "data": {
      "text/plain": [
       "({'activation': 'relu',\n",
       "  'convo_type': 'gin',\n",
       "  'learning_rate': 0.0001,\n",
       "  'num_layers': 1,\n",
       "  'optimizer': 'Adam',\n",
       "  'probability': 0.3,\n",
       "  'regularization': 'DropOut',\n",
       "  'units': 64},\n",
       " {'best_hpconfig': 'hpconfig_0',\n",
       "  'average_loss': 0.2815985729297002,\n",
       "  'std_dev': 0.037049144416971165,\n",
       "  'mean': 0.4714308245942692})"
      ]
     },
     "execution_count": 17,
     "metadata": {},
     "output_type": "execute_result"
    }
   ],
   "source": [
    "ev.calculate_average_loss(ev.directory+'/ogbg-molhiv', lambda _:True)"
   ]
  },
  {
   "cell_type": "code",
   "execution_count": 18,
   "metadata": {},
   "outputs": [
    {
     "data": {
      "text/plain": [
       "'/home/olga/GraphNeuralNetwork'"
      ]
     },
     "execution_count": 18,
     "metadata": {},
     "output_type": "execute_result"
    }
   ],
   "source": [
    "os.getcwd()"
   ]
  },
  {
   "cell_type": "code",
   "execution_count": 19,
   "metadata": {},
   "outputs": [
    {
     "name": "stdout",
     "output_type": "stream",
     "text": [
      "<DirEntry 'workplan.md'>\n",
      "<DirEntry '.gitignore'>\n",
      "<DirEntry 'convo.py'>\n",
      "<DirEntry 'gridS.py'>\n",
      "<DirEntry '__pycache__'>\n",
      "<DirEntry 'ogbg-molhiv'>\n",
      "<DirEntry 'batching.py'>\n",
      "<DirEntry 'metrics.py'>\n",
      "<DirEntry 'readme.md'>\n",
      "<DirEntry 'dataset'>\n",
      "<DirEntry 'modularized.py'>\n",
      "<DirEntry 'ogbg-molpcba'>\n",
      "<DirEntry 'eval.py'>\n",
      "<DirEntry 'prototype.py'>\n",
      "<DirEntry 'gin.py'>\n",
      "<DirEntry '.editorconfig'>\n",
      "<DirEntry '.git'>\n",
      "<DirEntry 'ogbg-molesol'>\n",
      "<DirEntry 'poolingL.py'>\n",
      "<DirEntry 'mad.py'>\n",
      "<DirEntry 'test.ipynb'>\n",
      "<DirEntry 'convL.py'>\n"
     ]
    }
   ],
   "source": [
    "for entry in os.scandir(os.getcwd()): \n",
    "    print(entry)"
   ]
  },
  {
   "cell_type": "code",
   "execution_count": 20,
   "metadata": {},
   "outputs": [
    {
     "data": {
      "text/plain": [
       "'test_ap'"
      ]
     },
     "execution_count": 20,
     "metadata": {},
     "output_type": "execute_result"
    }
   ],
   "source": [
    "metric = ev.lookup('ogbg-molpcba')\n",
    "metric "
   ]
  },
  {
   "cell_type": "code",
   "execution_count": 21,
   "metadata": {},
   "outputs": [],
   "source": [
    "dataset1 = GraphPropPredDataset(name='ogbg-molesol')\n",
    "    "
   ]
  },
  {
   "cell_type": "code",
   "execution_count": 22,
   "metadata": {},
   "outputs": [],
   "source": [
    "input = b.make_tf_datasets(dataset1)\n"
   ]
  },
  {
   "cell_type": "code",
   "execution_count": 23,
   "metadata": {},
   "outputs": [
    {
     "name": "stdout",
     "output_type": "stream",
     "text": [
      "Evaluating hyperparameter configuration 0 for dataset ogbg-molesol.\n",
      "Repeat 0 for hyperparameter configuration 0 already evaluated for dataset ogbg-molesol.\n",
      "Repeat 1 for hyperparameter configuration 0 already evaluated for dataset ogbg-molesol.\n",
      "Repeat 2 for hyperparameter configuration 0 already evaluated for dataset ogbg-molesol.\n",
      "Evaluating hyperparameter configuration 1 for dataset ogbg-molesol.\n",
      "Repeat 0 for hyperparameter configuration 1 already evaluated for dataset ogbg-molesol.\n",
      "Repeat 1 for hyperparameter configuration 1 already evaluated for dataset ogbg-molesol.\n",
      "Repeat 2 for hyperparameter configuration 1 already evaluated for dataset ogbg-molesol.\n",
      "Evaluating hyperparameter configuration 2 for dataset ogbg-molesol.\n",
      "Repeat 0 for hyperparameter configuration 2 already evaluated for dataset ogbg-molesol.\n",
      "Repeat 1 for hyperparameter configuration 2 already evaluated for dataset ogbg-molesol.\n",
      "Repeat 2 for hyperparameter configuration 2 already evaluated for dataset ogbg-molesol.\n"
     ]
    }
   ],
   "source": [
    "gridS.train_and_evaluate(small_sample, 'ogbg-molesol')\n"
   ]
  },
  {
   "cell_type": "code",
   "execution_count": null,
   "metadata": {},
   "outputs": [],
   "source": []
  },
  {
   "cell_type": "code",
   "execution_count": 24,
   "metadata": {},
   "outputs": [
    {
     "data": {
      "text/plain": [
       "({'activation': 'relu',\n",
       "  'convo_type': 'gin',\n",
       "  'learning_rate': 0.0001,\n",
       "  'num_layers': 1,\n",
       "  'optimizer': 'Adam',\n",
       "  'probability': 0.3,\n",
       "  'regularization': 'NodeSampling',\n",
       "  'units': 32},\n",
       " {'best_hpconfig': 'hpconfig_0',\n",
       "  'average_loss': 18.55868371327718,\n",
       "  'std_dev': 9.383755580648126,\n",
       "  'mean': 11.095110893249512})"
      ]
     },
     "execution_count": 24,
     "metadata": {},
     "output_type": "execute_result"
    }
   ],
   "source": [
    "ev.calculate_average_loss(ev.directory+'/ogbg-molesol', lambda _:True)"
   ]
  },
  {
   "cell_type": "code",
   "execution_count": 25,
   "metadata": {},
   "outputs": [
    {
     "data": {
      "text/plain": [
       "'ogbg-molesol'"
      ]
     },
     "execution_count": 25,
     "metadata": {},
     "output_type": "execute_result"
    }
   ],
   "source": [
    "\n",
    "os.path.split(ev.directory+'/ogbg-molesol')[-1]\n"
   ]
  },
  {
   "cell_type": "code",
   "execution_count": 26,
   "metadata": {},
   "outputs": [],
   "source": [
    "\n",
    "test = ev.calculate_average_loss(ev.directory+'/ogbg-molesol', lambda _:True)\n"
   ]
  },
  {
   "cell_type": "code",
   "execution_count": 27,
   "metadata": {},
   "outputs": [
    {
     "ename": "AttributeError",
     "evalue": "module 'eval' has no attribute 'process_folder'",
     "output_type": "error",
     "traceback": [
      "\u001b[0;31m---------------------------------------------------------------------------\u001b[0m",
      "\u001b[0;31mAttributeError\u001b[0m                            Traceback (most recent call last)",
      "Cell \u001b[0;32mIn[27], line 1\u001b[0m\n\u001b[0;32m----> 1\u001b[0m ev\u001b[39m.\u001b[39;49mprocess_folder(ev\u001b[39m.\u001b[39mdirectory\u001b[39m+\u001b[39m\u001b[39m'\u001b[39m\u001b[39m/ogbg-molhiv\u001b[39m\u001b[39m'\u001b[39m, \u001b[39m'\u001b[39m\u001b[39m/test_rocauc\u001b[39m\u001b[39m'\u001b[39m)\n",
      "\u001b[0;31mAttributeError\u001b[0m: module 'eval' has no attribute 'process_folder'"
     ]
    }
   ],
   "source": [
    "ev.process_folder(ev.directory+'/ogbg-molhiv', '/test_rocauc')\n"
   ]
  },
  {
   "cell_type": "code",
   "execution_count": null,
   "metadata": {},
   "outputs": [
    {
     "name": "stdout",
     "output_type": "stream",
     "text": [
      "hi\n",
      "hi\n",
      "hi\n"
     ]
    }
   ],
   "source": [
    "directory = os.path.join(ev.directory+ '/' + ev.datasets[0]+ '/hpconfig_0')\n",
    "\n",
    "a  = os.scandir(directory)\n",
    "\n",
    "for file in a: \n",
    "    print('hi')\n",
    "\n"
   ]
  },
  {
   "cell_type": "code",
   "execution_count": null,
   "metadata": {},
   "outputs": [],
   "source": [
    "\n",
    "def csv_metrics(best_hpconfig_path, dataset):\n",
    "    metric = ev.lookup(dataset)\n",
    "    repeat_files = [entry.name for entry in os.scandir(best_hpconfig_path) if entry.is_file() and entry.name.startswith('repeat_')]\n",
    "    metric_values = []\n",
    "    for repeat_file in repeat_files:\n",
    "        repeat_path = os.path.join(best_hpconfig_path, repeat_file)\n",
    "        with open(repeat_path, 'r') as f:\n",
    "            repeat_data = json.load(f)\n",
    "            metric_value = repeat_data[metric]\n",
    "            metric_values.append(metric_value)\n",
    "    return metric_values"
   ]
  },
  {
   "cell_type": "code",
   "execution_count": null,
   "metadata": {},
   "outputs": [
    {
     "ename": "KeyError",
     "evalue": "'test_ap'",
     "output_type": "error",
     "traceback": [
      "\u001b[0;31m---------------------------------------------------------------------------\u001b[0m",
      "\u001b[0;31mKeyError\u001b[0m                                  Traceback (most recent call last)",
      "Cell \u001b[0;32mIn[56], line 2\u001b[0m\n\u001b[1;32m      1\u001b[0m test_directory \u001b[39m=\u001b[39m ev\u001b[39m.\u001b[39mdirectory \u001b[39m+\u001b[39m \u001b[39m'\u001b[39m\u001b[39m/\u001b[39m\u001b[39m'\u001b[39m \u001b[39m+\u001b[39m ev\u001b[39m.\u001b[39mdatasets[\u001b[39m0\u001b[39m] \u001b[39m+\u001b[39m \u001b[39m'\u001b[39m\u001b[39m/hpconfig_0\u001b[39m\u001b[39m'\u001b[39m\n\u001b[0;32m----> 2\u001b[0m csv_metrics(test_directory, \u001b[39m'\u001b[39;49m\u001b[39mogbg-molpcba\u001b[39;49m\u001b[39m'\u001b[39;49m)\n",
      "Cell \u001b[0;32mIn[55], line 9\u001b[0m, in \u001b[0;36mcsv_metrics\u001b[0;34m(best_hpconfig_path, dataset)\u001b[0m\n\u001b[1;32m      7\u001b[0m     \u001b[39mwith\u001b[39;00m \u001b[39mopen\u001b[39m(repeat_path, \u001b[39m'\u001b[39m\u001b[39mr\u001b[39m\u001b[39m'\u001b[39m) \u001b[39mas\u001b[39;00m f:\n\u001b[1;32m      8\u001b[0m         repeat_data \u001b[39m=\u001b[39m json\u001b[39m.\u001b[39mload(f)\n\u001b[0;32m----> 9\u001b[0m         metric_value \u001b[39m=\u001b[39m repeat_data[metric]\n\u001b[1;32m     10\u001b[0m         metric_values\u001b[39m.\u001b[39mappend(metric_value)\n\u001b[1;32m     11\u001b[0m \u001b[39mreturn\u001b[39;00m metric_values\n",
      "\u001b[0;31mKeyError\u001b[0m: 'test_ap'"
     ]
    }
   ],
   "source": [
    "test_directory = ev.directory + '/' + ev.datasets[0] + '/hpconfig_0'\n",
    "csv_metrics(test_directory, 'ogbg-molpcba')"
   ]
  },
  {
   "cell_type": "code",
   "execution_count": 34,
   "metadata": {},
   "outputs": [
    {
     "data": {
      "text/plain": [
       "2592"
      ]
     },
     "execution_count": 34,
     "metadata": {},
     "output_type": "execute_result"
    }
   ],
   "source": [
    "len(gridS.param_combos)"
   ]
  },
  {
   "cell_type": "code",
   "execution_count": 38,
   "metadata": {},
   "outputs": [
    {
     "data": {
      "text/plain": [
       "5.3999999999999995"
      ]
     },
     "execution_count": 38,
     "metadata": {},
     "output_type": "execute_result"
    }
   ],
   "source": [
    "2592*3/60/24"
   ]
  }
 ],
 "metadata": {
  "kernelspec": {
   "display_name": "Python 3",
   "language": "python",
   "name": "python3"
  },
  "language_info": {
   "codemirror_mode": {
    "name": "ipython",
    "version": 3
   },
   "file_extension": ".py",
   "mimetype": "text/x-python",
   "name": "python",
   "nbconvert_exporter": "python",
   "pygments_lexer": "ipython3",
   "version": "3.10.12"
  },
  "orig_nbformat": 4
 },
 "nbformat": 4,
 "nbformat_minor": 2
}
