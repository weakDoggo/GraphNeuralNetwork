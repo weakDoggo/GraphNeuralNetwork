{
 "cells": [
  {
   "cell_type": "code",
   "execution_count": 2,
   "metadata": {},
   "outputs": [],
   "source": [
    "%reload_ext autoreload\n",
    "%autoreload 2\n",
    "import os\n",
    "import json\n",
    "import math\n",
    "import batching as b\n",
    "import modularized as m\n",
    "import convL\n",
    "import convo as c\n",
    "import numpy as np\n",
    "from tensorflow import keras\n",
    "import tensorflow as tf\n",
    "import gridS\n",
    "import funcy as fy\n",
    "import gin\n",
    "import poolingL\n",
    "from ogb.nodeproppred import NodePropPredDataset\n",
    "from ogb.graphproppred import GraphPropPredDataset\n",
    "from sklearn.model_selection import ParameterGrid\n",
    "import eval as ev\n"
   ]
  },
  {
   "cell_type": "code",
   "execution_count": 3,
   "metadata": {},
   "outputs": [],
   "source": [
    "\n",
    "dataset1 = GraphPropPredDataset(name = 'ogbg-molhiv')"
   ]
  },
  {
   "cell_type": "code",
   "execution_count": 4,
   "metadata": {},
   "outputs": [],
   "source": [
    "dataset_arxiv = NodePropPredDataset(name='ogbn-arxiv')\n"
   ]
  },
  {
   "cell_type": "code",
   "execution_count": 5,
   "metadata": {},
   "outputs": [
    {
     "data": {
      "text/plain": [
       "[{'activation': 'relu',\n",
       "  'convo_type': 'gin',\n",
       "  'learning_rate': 0.0001,\n",
       "  'num_layers': 1,\n",
       "  'optimizer': 'Adam',\n",
       "  'probability': 0.3,\n",
       "  'regularization': 'DropOut',\n",
       "  'units': 32},\n",
       " {'activation': 'relu',\n",
       "  'convo_type': 'gin',\n",
       "  'learning_rate': 0.0001,\n",
       "  'num_layers': 1,\n",
       "  'optimizer': 'Adam',\n",
       "  'probability': 0.3,\n",
       "  'regularization': 'DropOut',\n",
       "  'units': 64},\n",
       " {'activation': 'relu',\n",
       "  'convo_type': 'gin',\n",
       "  'learning_rate': 0.0001,\n",
       "  'num_layers': 1,\n",
       "  'optimizer': 'Adam',\n",
       "  'probability': 0.3,\n",
       "  'regularization': 'NodeSampling',\n",
       "  'units': 32}]"
      ]
     },
     "execution_count": 5,
     "metadata": {},
     "output_type": "execute_result"
    }
   ],
   "source": [
    "param_grid = {'num_layers': [1, 2, 3, 4, 5, 6],\n",
    "              'learning_rate': [0.0001, 0.001, 0.01],\n",
    "              'optimizer': ['Adam'],\n",
    "              'regularization': ['DropOut', 'NodeSampling', 'DropEdge', 'GDC'],\n",
    "              'probability': [0.3, 0.5, 0.7],\n",
    "              'activation': ['relu', 'sigmoid', 'tanh'],\n",
    "              'units': [32, 64],\n",
    "              'convo_type': ['gcn', 'gin']}\n",
    "\n",
    "override_conv_type = 'gin'  # None\n",
    "\n",
    "if override_conv_type is not None:\n",
    "    param_grid['convo_type'] = [override_conv_type]\n",
    "\n",
    "small_sample = list(ParameterGrid(param_grid))[0:3]\n",
    "sample = list(ParameterGrid(param_grid))[0:5]\n",
    "big_sample = list(ParameterGrid(param_grid))[0:20]\n",
    "small_sample\n"
   ]
  },
  {
   "cell_type": "code",
   "execution_count": 6,
   "metadata": {},
   "outputs": [],
   "source": [
    "ds = GraphPropPredDataset('ogbg-molhiv')"
   ]
  },
  {
   "cell_type": "code",
   "execution_count": 7,
   "metadata": {},
   "outputs": [
    {
     "name": "stderr",
     "output_type": "stream",
     "text": [
      "2023-08-13 13:03:28.577369: W tensorflow/compiler/xla/stream_executor/platform/default/dso_loader.cc:64] Could not load dynamic library 'libcuda.so.1'; dlerror: libcuda.so.1: cannot open shared object file: No such file or directory\n",
      "2023-08-13 13:03:28.577870: W tensorflow/compiler/xla/stream_executor/cuda/cuda_driver.cc:265] failed call to cuInit: UNKNOWN ERROR (303)\n",
      "2023-08-13 13:03:28.577920: I tensorflow/compiler/xla/stream_executor/cuda/cuda_diagnostics.cc:156] kernel driver does not appear to be running on this host (DESKTOP-UCI9MJD): /proc/driver/nvidia/version does not exist\n",
      "2023-08-13 13:03:28.579448: I tensorflow/core/platform/cpu_feature_guard.cc:193] This TensorFlow binary is optimized with oneAPI Deep Neural Network Library (oneDNN) to use the following CPU instructions in performance-critical operations:  AVX2 FMA\n",
      "To enable them in other operations, rebuild TensorFlow with the appropriate compiler flags.\n"
     ]
    },
    {
     "name": "stdout",
     "output_type": "stream",
     "text": [
      "Evaluating hyperparameter configuration 0 for dataset ogbg-molhiv.\n",
      "Repeat 0 for hyperparameter configuration 0 already evaluated for dataset ogbg-molhiv.\n",
      "Repeat 1 for hyperparameter configuration 0 already evaluated for dataset ogbg-molhiv.\n",
      "Repeat 2 for hyperparameter configuration 0 already evaluated for dataset ogbg-molhiv.\n",
      "Evaluating hyperparameter configuration 1 for dataset ogbg-molhiv.\n",
      "Repeat 0 for hyperparameter configuration 1 already evaluated for dataset ogbg-molhiv.\n",
      "Repeat 1 for hyperparameter configuration 1 already evaluated for dataset ogbg-molhiv.\n",
      "Repeat 2 for hyperparameter configuration 1 already evaluated for dataset ogbg-molhiv.\n",
      "Evaluating hyperparameter configuration 2 for dataset ogbg-molhiv.\n",
      "Repeat 0 for hyperparameter configuration 2 already evaluated for dataset ogbg-molhiv.\n",
      "Repeat 1 for hyperparameter configuration 2 already evaluated for dataset ogbg-molhiv.\n",
      "Repeat 2 for hyperparameter configuration 2 already evaluated for dataset ogbg-molhiv.\n"
     ]
    }
   ],
   "source": [
    "gridS.train_and_evaluate(small_sample, 'ogbg-molhiv')"
   ]
  },
  {
   "cell_type": "code",
   "execution_count": 8,
   "metadata": {},
   "outputs": [
    {
     "name": "stdout",
     "output_type": "stream",
     "text": [
      "Evaluating hyperparameter configuration 0 for dataset ogbg-molpcba.\n",
      "Repeat 0 for hyperparameter configuration 0 already evaluated for dataset ogbg-molpcba.\n",
      "Repeat 1 for hyperparameter configuration 0 already evaluated for dataset ogbg-molpcba.\n",
      "Repeat 2 for hyperparameter configuration 0 already evaluated for dataset ogbg-molpcba.\n",
      "Evaluating hyperparameter configuration 1 for dataset ogbg-molpcba.\n",
      "Repeat 0 for hyperparameter configuration 1 already evaluated for dataset ogbg-molpcba.\n",
      "Repeat 1 for hyperparameter configuration 1 already evaluated for dataset ogbg-molpcba.\n",
      "Repeat 2 for hyperparameter configuration 1 already evaluated for dataset ogbg-molpcba.\n",
      "Evaluating hyperparameter configuration 2 for dataset ogbg-molpcba.\n",
      "Repeat 0 for hyperparameter configuration 2 already evaluated for dataset ogbg-molpcba.\n",
      "Repeat 1 for hyperparameter configuration 2 already evaluated for dataset ogbg-molpcba.\n",
      "Repeat 2 for hyperparameter configuration 2 already evaluated for dataset ogbg-molpcba.\n"
     ]
    }
   ],
   "source": [
    "gridS.train_and_evaluate(small_sample, 'ogbg-molpcba')"
   ]
  },
  {
   "cell_type": "code",
   "execution_count": 9,
   "metadata": {},
   "outputs": [
    {
     "name": "stdout",
     "output_type": "stream",
     "text": [
      "Evaluating hyperparameter configuration 0 for dataset ogbg-molhiv.\n",
      "Repeat 0 for hyperparameter configuration 0 already evaluated for dataset ogbg-molhiv.\n",
      "Repeat 1 for hyperparameter configuration 0 already evaluated for dataset ogbg-molhiv.\n",
      "Repeat 2 for hyperparameter configuration 0 already evaluated for dataset ogbg-molhiv.\n",
      "Evaluating hyperparameter configuration 1 for dataset ogbg-molhiv.\n",
      "Repeat 0 for hyperparameter configuration 1 already evaluated for dataset ogbg-molhiv.\n",
      "Repeat 1 for hyperparameter configuration 1 already evaluated for dataset ogbg-molhiv.\n",
      "Repeat 2 for hyperparameter configuration 1 already evaluated for dataset ogbg-molhiv.\n",
      "Evaluating hyperparameter configuration 2 for dataset ogbg-molhiv.\n",
      "Repeat 0 for hyperparameter configuration 2 already evaluated for dataset ogbg-molhiv.\n",
      "Repeat 1 for hyperparameter configuration 2 already evaluated for dataset ogbg-molhiv.\n",
      "Repeat 2 for hyperparameter configuration 2 already evaluated for dataset ogbg-molhiv.\n"
     ]
    }
   ],
   "source": [
    "gridS.train_and_evaluate(small_sample, 'ogbg-molhiv')"
   ]
  },
  {
   "cell_type": "code",
   "execution_count": 10,
   "metadata": {},
   "outputs": [
    {
     "name": "stdout",
     "output_type": "stream",
     "text": [
      "{\"hyperparams\": {\"activation\": \"relu\", \"convo_type\": \"gin\", \"learning_rate\": 0.0001, \"num_layers\": 1, \"optimizer\": \"Adam\", \"probability\": 0.3, \"regularization\": \"DropOut\", \"units\": 32}, \"test_loss\": 0.22556445002555847, \"test_auc_6\": 0.5, \"test_binary_accuracy\": 0.9683929085731506, \"test_precision_7\": 0.0, \"test_recall_7\": 0.0, \"test_rocauc\": 0.5445373607060778, \"training_history\": {\"loss\": [0.7298100590705872], \"auc_6\": [0.5714373588562012], \"binary_accuracy\": [0.6938974261283875], \"precision_7\": [0.04658634588122368], \"recall_7\": [0.446153849363327], \"val_loss\": [0.225038543343544], \"val_auc_6\": [0.5], \"val_binary_accuracy\": [0.9683929085731506], \"val_precision_7\": [0.0], \"val_recall_7\": [0.0]}, \"train_loss\": 0.7298100590705872, \"val_loss\": 0.225038543343544}\n"
     ]
    }
   ],
   "source": [
    "current_dir = os.getcwd()\n",
    "type_dir = type(current_dir)\n",
    "contents = os.listdir()\n",
    "with open('/home/olga/GraphNeuralNetwork/ogbg-molhiv/hpconfig_0/repeat_0.json', 'r') as file: \n",
    "    data = file.read() \n",
    "    print(data)\n",
    "    file.close()\n"
   ]
  },
  {
   "cell_type": "code",
   "execution_count": 11,
   "metadata": {},
   "outputs": [
    {
     "data": {
      "text/plain": [
       "<posix.ScandirIterator at 0x7f750d8d6f00>"
      ]
     },
     "execution_count": 11,
     "metadata": {},
     "output_type": "execute_result"
    }
   ],
   "source": [
    "contents_new = os.scandir() \n",
    "contents_new \n",
    "\n"
   ]
  },
  {
   "cell_type": "code",
   "execution_count": 12,
   "metadata": {},
   "outputs": [
    {
     "name": "stdout",
     "output_type": "stream",
     "text": [
      "workplan.md\n",
      ".gitignore\n",
      "convo.py\n",
      "gridS.py\n",
      "__pycache__\n",
      "ogbg-molhiv\n",
      "batching.py\n",
      "metrics.py\n",
      "readme.md\n",
      "dataset\n",
      "modularized.py\n",
      "click.py\n",
      "ogbg-molpcba\n",
      "eval.py\n",
      "prototype.py\n",
      "gin.py\n",
      ".editorconfig\n",
      ".git\n",
      "poolingL.py\n",
      "mad.py\n",
      "test.ipynb\n",
      "convL.py\n"
     ]
    },
    {
     "data": {
      "text/plain": [
       "posix.ScandirIterator"
      ]
     },
     "execution_count": 12,
     "metadata": {},
     "output_type": "execute_result"
    }
   ],
   "source": [
    "with os.scandir('/home/olga/GraphNeuralNetwork') as entries:\n",
    "    for entry in entries: \n",
    "        print(entry.name)\n",
    "\n",
    "type(entries)"
   ]
  },
  {
   "cell_type": "code",
   "execution_count": 13,
   "metadata": {},
   "outputs": [
    {
     "data": {
      "text/plain": [
       "9"
      ]
     },
     "execution_count": 13,
     "metadata": {},
     "output_type": "execute_result"
    }
   ],
   "source": [
    "dataset = GraphPropPredDataset(name='ogbg-molhiv')\n",
    "\n",
    "dataset[0][0]['node_feat'][0].shape[0]\n"
   ]
  },
  {
   "cell_type": "code",
   "execution_count": 14,
   "metadata": {},
   "outputs": [],
   "source": [
    "input = b.make_tf_datasets(dataset)"
   ]
  },
  {
   "cell_type": "code",
   "execution_count": 15,
   "metadata": {},
   "outputs": [],
   "source": [
    "test_model = gridS.create_model(node_features=dataset[0][0]['node_feat'][0].shape[0],**gridS.param_combos[0], **gridS.config('ogbg-molhiv'))"
   ]
  },
  {
   "cell_type": "code",
   "execution_count": 16,
   "metadata": {},
   "outputs": [
    {
     "name": "stdout",
     "output_type": "stream",
     "text": [
      "138/138 [==============================] - 1s 4ms/step - loss: 0.8221 - auc_2: 0.4392 - binary_accuracy: 0.8181 - precision_3: 0.0157 - recall_3: 0.0769\n"
     ]
    }
   ],
   "source": [
    "res = test_model.evaluate(input['test'], return_dict = True)"
   ]
  },
  {
   "cell_type": "code",
   "execution_count": 17,
   "metadata": {},
   "outputs": [
    {
     "data": {
      "text/plain": [
       "{'loss': 0.8220695853233337,\n",
       " 'auc_2': 0.43916451930999756,\n",
       " 'binary_accuracy': 0.8181375861167908,\n",
       " 'precision_3': 0.015673981979489326,\n",
       " 'recall_3': 0.07692307978868484}"
      ]
     },
     "execution_count": 17,
     "metadata": {},
     "output_type": "execute_result"
    }
   ],
   "source": [
    "res"
   ]
  },
  {
   "cell_type": "code",
   "execution_count": 18,
   "metadata": {},
   "outputs": [
    {
     "data": {
      "text/plain": [
       "({'activation': 'relu',\n",
       "  'convo_type': 'gin',\n",
       "  'learning_rate': 0.0001,\n",
       "  'num_layers': 1,\n",
       "  'optimizer': 'Adam',\n",
       "  'probability': 0.3,\n",
       "  'regularization': 'DropOut',\n",
       "  'units': 64},\n",
       " {'best_hpconfig': 'hpconfig_0',\n",
       "  'average_loss': 0.42599648237228394,\n",
       "  'std_dev': 0.0020591588704067507})"
      ]
     },
     "execution_count": 18,
     "metadata": {},
     "output_type": "execute_result"
    }
   ],
   "source": [
    "ev.calculate_average_loss(ev.directory+'/ogbg-molhiv', lambda _:True)"
   ]
  },
  {
   "cell_type": "code",
   "execution_count": 19,
   "metadata": {},
   "outputs": [
    {
     "data": {
      "text/plain": [
       "'/home/olga/GraphNeuralNetwork'"
      ]
     },
     "execution_count": 19,
     "metadata": {},
     "output_type": "execute_result"
    }
   ],
   "source": [
    "os.getcwd()"
   ]
  },
  {
   "cell_type": "code",
   "execution_count": 20,
   "metadata": {},
   "outputs": [
    {
     "name": "stdout",
     "output_type": "stream",
     "text": [
      "<DirEntry 'workplan.md'>\n",
      "<DirEntry '.gitignore'>\n",
      "<DirEntry 'convo.py'>\n",
      "<DirEntry 'gridS.py'>\n",
      "<DirEntry '__pycache__'>\n",
      "<DirEntry 'ogbg-molhiv'>\n",
      "<DirEntry 'batching.py'>\n",
      "<DirEntry 'metrics.py'>\n",
      "<DirEntry 'readme.md'>\n",
      "<DirEntry 'dataset'>\n",
      "<DirEntry 'modularized.py'>\n",
      "<DirEntry 'click.py'>\n",
      "<DirEntry 'ogbg-molpcba'>\n",
      "<DirEntry 'eval.py'>\n",
      "<DirEntry 'prototype.py'>\n",
      "<DirEntry 'gin.py'>\n",
      "<DirEntry '.editorconfig'>\n",
      "<DirEntry '.git'>\n",
      "<DirEntry 'poolingL.py'>\n",
      "<DirEntry 'mad.py'>\n",
      "<DirEntry 'test.ipynb'>\n",
      "<DirEntry 'convL.py'>\n"
     ]
    }
   ],
   "source": [
    "for entry in os.scandir(os.getcwd()): \n",
    "    print(entry)"
   ]
  },
  {
   "cell_type": "code",
   "execution_count": 21,
   "metadata": {},
   "outputs": [
    {
     "data": {
      "text/plain": [
       "<keras.metrics.metrics.AUC at 0x7f750dbd4760>"
      ]
     },
     "execution_count": 21,
     "metadata": {},
     "output_type": "execute_result"
    }
   ],
   "source": [
    "metric = ev.lookup('ogbg-molpcba')\n",
    "metric "
   ]
  },
  {
   "cell_type": "code",
   "execution_count": null,
   "metadata": {},
   "outputs": [],
   "source": []
  }
 ],
 "metadata": {
  "kernelspec": {
   "display_name": "Python 3",
   "language": "python",
   "name": "python3"
  },
  "language_info": {
   "codemirror_mode": {
    "name": "ipython",
    "version": 3
   },
   "file_extension": ".py",
   "mimetype": "text/x-python",
   "name": "python",
   "nbconvert_exporter": "python",
   "pygments_lexer": "ipython3",
   "version": "3.10.12"
  },
  "orig_nbformat": 4
 },
 "nbformat": 4,
 "nbformat_minor": 2
}
