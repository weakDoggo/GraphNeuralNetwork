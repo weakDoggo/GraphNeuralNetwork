{
 "cells": [
  {
   "cell_type": "code",
   "execution_count": 19,
   "metadata": {},
   "outputs": [
    {
     "name": "stderr",
     "output_type": "stream",
     "text": [
      "UsageError: Line magic function `%autoreload` not found.\n"
     ]
    }
   ],
   "source": [
    "import batching\n",
    "import poolingL\n",
    "import modularized as m\n",
    "import gin\n",
    "import convL\n",
    "import convo as c\n",
    "from tensorflow import keras\n",
    "import numpy as np\n",
    "import funcy as fy\n",
    "from ogb.graphproppred import GraphPropPredDataset\n",
    "import ogb\n",
    "import tensorflow_addons as tfa\n",
    "import tensorflow as tf\n",
    "%autoreload 2\n",
    "%reload_ext autoreload\n"
   ]
  },
  {
   "cell_type": "code",
   "execution_count": 20,
   "metadata": {},
   "outputs": [],
   "source": [
    "\n",
    "# load ogb dataset \n",
    "dataset1 = GraphPropPredDataset(name='ogbg-molhiv')\n",
    "dataset2 = GraphPropPredDataset(name='ogbg-molpcba')"
   ]
  },
  {
   "cell_type": "code",
   "execution_count": 21,
   "metadata": {},
   "outputs": [],
   "source": [
    "dataset1[0][0]['edge_index']\n",
    "\n",
    "X = dataset1[0][0]['node_feat']\n",
    "refA = tf.constant(dataset1[0][0]['edge_index'][0], dtype = tf.int32)\n",
    "refB = tf.constant(dataset1[0][0]['edge_index'][1], dtype = tf.int32)\n",
    "X_b = tf.cast((tf.gather(X, refB, axis=0)),dtype=tf.int32)\n",
    "X_aggregate = tf.scatter_nd(tf.expand_dims(refA, axis=- 1), X_b, shape=tf.shape(X))\n",
    "\n",
    "\n",
    "# DropOut (false, false)\n",
    "# DropNode (true, false)\n",
    "# DropEdge (true, true)\n",
    "# GDC (false, true)"
   ]
  },
  {
   "cell_type": "code",
   "execution_count": 22,
   "metadata": {},
   "outputs": [
    {
     "data": {
      "text/plain": [
       "<tf.Tensor: shape=(40,), dtype=int32, numpy=\n",
       "array([ 0,  1,  1,  2,  2,  3,  3,  4,  4,  5,  5,  6,  6,  7,  7,  8,  6,\n",
       "        9,  4, 10, 10, 11, 11, 12, 12, 13, 11, 14, 14, 15, 15, 16, 16, 17,\n",
       "       15, 18,  9,  2, 18,  4])>"
      ]
     },
     "execution_count": 22,
     "metadata": {},
     "output_type": "execute_result"
    }
   ],
   "source": [
    "refA\n",
    "shape = tf.shape(refA)[0]\n",
    "refA"
   ]
  },
  {
   "cell_type": "code",
   "execution_count": 35,
   "metadata": {},
   "outputs": [
    {
     "data": {
      "text/plain": [
       "<tf.Tensor: shape=(19, 9), dtype=bool, numpy=\n",
       "array([[ True,  True,  True,  True,  True,  True,  True,  True,  True],\n",
       "       [ True,  True,  True,  True,  True,  True,  True,  True,  True],\n",
       "       [ True,  True,  True,  True,  True,  True,  True,  True,  True],\n",
       "       [False,  True, False, False,  True,  True, False,  True, False],\n",
       "       [False,  True, False, False,  True,  True, False,  True, False],\n",
       "       [False,  True, False, False,  True,  True, False,  True, False],\n",
       "       [False,  True, False, False,  True,  True, False,  True, False],\n",
       "       [False,  True, False, False, False,  True, False,  True,  True],\n",
       "       [False,  True, False, False, False,  True, False,  True,  True],\n",
       "       [ True,  True,  True,  True,  True,  True,  True,  True,  True],\n",
       "       [ True,  True,  True,  True,  True,  True,  True,  True,  True],\n",
       "       [ True,  True,  True,  True,  True,  True,  True,  True,  True],\n",
       "       [ True,  True,  True,  True,  True,  True,  True,  True,  True],\n",
       "       [ True,  True,  True,  True,  True,  True,  True,  True,  True],\n",
       "       [False,  True, False, False, False,  True, False,  True, False],\n",
       "       [False,  True, False, False,  True,  True, False,  True, False],\n",
       "       [False,  True, False, False, False,  True, False,  True,  True],\n",
       "       [ True,  True,  True,  True,  True,  True,  True,  True,  True],\n",
       "       [ True,  True,  True,  True,  True,  True,  True,  True,  True]])>"
      ]
     },
     "execution_count": 35,
     "metadata": {},
     "output_type": "execute_result"
    }
   ],
   "source": [
    "# get_shape --> DROP NODE \n",
    "drop_node_shape = c.get_shape(X, True)\n",
    "dropNode_result = X * c.dropout_mask(0.7 , drop_node_shape)\n",
    "\n",
    "\n",
    "X == dropNode_result\n",
    "#c.dropout_mask(0.7, drop_node_shape)\n",
    "\n",
    "#dropNode_result"
   ]
  },
  {
   "cell_type": "code",
   "execution_count": 27,
   "metadata": {},
   "outputs": [
    {
     "data": {
      "text/plain": [
       "<tf.Tensor: shape=(19, 9), dtype=float32, numpy=\n",
       "array([[0., 0., 4., 0., 0., 0., 0., 0., 0.],\n",
       "       [0., 0., 0., 0., 0., 0., 0., 0., 0.],\n",
       "       [0., 0., 3., 0., 0., 0., 0., 0., 1.],\n",
       "       [7., 0., 0., 0., 0., 0., 1., 0., 0.],\n",
       "       [0., 0., 4., 2., 0., 0., 5., 0., 0.],\n",
       "       [0., 0., 0., 0., 0., 0., 0., 0., 0.],\n",
       "       [0., 0., 0., 0., 0., 0., 0., 0., 1.],\n",
       "       [5., 0., 0., 5., 0., 0., 0., 0., 0.],\n",
       "       [0., 0., 0., 0., 0., 0., 0., 0., 0.],\n",
       "       [0., 0., 4., 0., 2., 0., 0., 0., 0.],\n",
       "       [0., 0., 0., 6., 0., 0., 0., 0., 0.],\n",
       "       [5., 0., 0., 0., 0., 0., 0., 0., 0.],\n",
       "       [5., 0., 0., 0., 0., 0., 0., 0., 0.],\n",
       "       [0., 0., 4., 5., 0., 0., 2., 0., 0.],\n",
       "       [0., 0., 0., 5., 2., 0., 0., 0., 0.],\n",
       "       [0., 0., 0., 0., 0., 0., 1., 0., 0.],\n",
       "       [0., 0., 0., 0., 2., 0., 2., 0., 0.],\n",
       "       [5., 0., 0., 5., 0., 0., 0., 0., 0.],\n",
       "       [7., 0., 0., 0., 0., 0., 1., 0., 1.]], dtype=float32)>"
      ]
     },
     "execution_count": 27,
     "metadata": {},
     "output_type": "execute_result"
    }
   ],
   "source": [
    "# get_shape --> DROP OUT \n",
    "dropout_shape = c.get_shape(X, False) \n",
    "drop_out_result = X * c.dropout_mask(0.70, dropout_shape)\n",
    "\n",
    "drop_out_result"
   ]
  },
  {
   "cell_type": "code",
   "execution_count": 11,
   "metadata": {},
   "outputs": [],
   "source": [
    "def quicksort_inplace(arr, low=0, high=None):\n",
    "    if high is None:\n",
    "        high = len(arr) - 1\n",
    "    if low < high:\n",
    "        p = partition(arr, low, high)\n",
    "        quicksort_inplace(arr, low, p - 1)\n",
    "        quicksort_inplace(arr, p + 1, high)\n",
    "\n",
    "\n",
    "def partition(arr, low, high):\n",
    "    pivot = arr[high]\n",
    "    i = low - 1\n",
    "    for j in range(low, high):\n",
    "        if arr[j] < pivot:\n",
    "            i += 1\n",
    "            arr[i], arr[j] = arr[j], arr[i]\n",
    "    arr[i+1], arr[high] = arr[high], arr[i+1]\n",
    "    return i + 1\n"
   ]
  },
  {
   "cell_type": "code",
   "execution_count": 12,
   "metadata": {},
   "outputs": [
    {
     "data": {
      "text/plain": [
       "[1, 2, 2, 2, 5, 9, 12, 12, 34, 41, 57]"
      ]
     },
     "execution_count": 12,
     "metadata": {},
     "output_type": "execute_result"
    }
   ],
   "source": [
    "array = [12, 2, 1, 5, 57, 9, 2, 2, 41, 12, 34]\n",
    "quicksort_inplace(array, low = 0)\n",
    "\n",
    "array\n"
   ]
  }
 ],
 "metadata": {
  "kernelspec": {
   "display_name": "Python 3",
   "language": "python",
   "name": "python3"
  },
  "language_info": {
   "codemirror_mode": {
    "name": "ipython",
    "version": 3
   },
   "file_extension": ".py",
   "mimetype": "text/x-python",
   "name": "python",
   "nbconvert_exporter": "python",
   "pygments_lexer": "ipython3",
   "version": "3.10.7"
  },
  "orig_nbformat": 4,
  "vscode": {
   "interpreter": {
    "hash": "51ed27a7ef83805e0b3471022d4510b5108711fe97fcfbc1e0589f652026973d"
   }
  }
 },
 "nbformat": 4,
 "nbformat_minor": 2
}
